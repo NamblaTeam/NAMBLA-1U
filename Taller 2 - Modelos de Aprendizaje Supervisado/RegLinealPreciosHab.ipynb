import pandas as pd
import seaborn as sb
from sklearn.linear_model import LinearRegression
import matplotlib.pyplot as plt

datos = pd.read_csv("BostonHousing.csv")

# 3. Verificar si hay valores faltantes
print(datos.isnull().sum())  # Muestra la cantidad de NaN en cada columna

# 4. Eliminar las filas con valores faltantes
datos = datos.dropna()

datos.info()

datos.head()

# 4. Visualizar las relaciones entre las variables (solo un ejemplo de visualización)
sb.pairplot(datos)
plt.show()

# 4. Visualizar las relaciones entre las variables (por ejemplo, entre 'rm' y 'medv')
sb.scatterplot(x="rm", y="medv", data=datos, hue="medv", palette="coolwarm")
plt.xlabel("Promedio de habitaciones por vivienda (RM)")
plt.ylabel("Precio medio de la vivienda (MEDV)")
plt.title("Relación entre el número de habitaciones y el precio de la vivienda")
plt.show()

# Seleccionar las características (X) y la variable objetivo (y)
X = datos["rm"]  # 'rm' es el promedio de habitaciones por vivienda
y = datos["medv"]  # 'medv' es el precio medio de la vivienda

# Mostrar los datos seleccionados
print(X)
print(y)

# Procesar los datos, convertir de series a arreglos para el modelo
X_procesada = X.values.reshape(-1, 1)  # Convertir 'X' a formato de arreglo de una sola columna
y_procesada = y.values  # No es necesario reshaping para 'y' ya que debería ser un vector 1D

# Crear el modelo de regresión lineal
modelo = LinearRegression()

# Entrenar el modelo con los datos procesados
modelo.fit(X_procesada, y_procesada)

# Realizar una predicción con un valor específico (por ejemplo, 7 habitaciones)
habitaciones = 7
prediccion = modelo.predict([[habitaciones]])
# Mostrar la predicción
print(f'Para {habitaciones} habitaciones, el precio medio de la vivienda es {prediccion[0]:.2f} miles de dólares')

# 14. Evaluar el modelo con el score R² (coeficiente de determinación)
score = modelo.score(X_procesada, y_procesada)
print(f'R² Score del modelo: {score:.2f}')
