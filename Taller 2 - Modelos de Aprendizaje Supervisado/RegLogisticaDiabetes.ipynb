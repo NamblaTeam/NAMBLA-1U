import pandas as pd
datos = pd.read_csv("diabetes.csv")

datos.head()

datos.describe()

import seaborn as sb
sb.countplot(x="Outcome", data=datos)

sb.countplot(x="Outcome", data=datos, hue="Pregnancies")

datos.isna().sum()

datos["Outcome"].value_counts()

sb.heatmap(datos.corr(), annot=True, cmap="YlGnBu")

# IA
X = datos.drop(["Outcome"], axis=1)
y = datos["Outcome"]

from sklearn.model_selection import train_test_split

X_entreno, X_prueba, y_entreno, y_prueba = train_test_split(X, y, test_size=0.2)

from sklearn.linear_model import LogisticRegression

modelo = LogisticRegression()
modelo.fit(X_entreno, y_entreno)

predicciones = modelo.predict(X_prueba)

X.head()

nueva_persona = [19, 148, 72, 35, 180, 33.6, 0.627, 60]
# 6	148	72.0	35	169.5	33.6	0.627	50	1
prediccion = modelo.predict([nueva_persona])
if prediccion[0] == 1:
  print("Tiene diabetes")
else:
  print("No tiene diabetes")
